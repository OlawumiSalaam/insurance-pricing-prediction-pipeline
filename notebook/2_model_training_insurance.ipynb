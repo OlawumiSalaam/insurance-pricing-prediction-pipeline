{
  "cells": [
    {
      "cell_type": "code",
      "execution_count": 1,
      "metadata": {
        "id": "oFCk4bj7vioZ"
      },
      "outputs": [],
      "source": [
        "# ignore warnings\n",
        "import warnings\n",
        "warnings.filterwarnings('ignore')"
      ]
    },
    {
      "cell_type": "code",
      "execution_count": 2,
      "metadata": {
        "id": "1_-bQPosRQGU"
      },
      "outputs": [],
      "source": [
        "# Basic Import\n",
        "import numpy as np\n",
        "import pandas as pd\n",
        "import matplotlib.pyplot as plt\n",
        "import seaborn as sns\n",
        "import plotly.express as px\n",
        "# data preprocessing\n",
        "from sklearn.preprocessing import OneHotEncoder, StandardScaler\n",
        "from sklearn.compose import ColumnTransformer\n",
        "from sklearn.pipeline import Pipeline\n",
        "from sklearn.model_selection import train_test_split\n",
        "# Modelling\n",
        "from sklearn.neighbors import KNeighborsRegressor\n",
        "from sklearn.tree import DecisionTreeRegressor\n",
        "from sklearn.ensemble import RandomForestRegressor,AdaBoostRegressor\n",
        "from sklearn.linear_model import LinearRegression, Lasso, Ridge\n",
        "from sklearn.model_selection import RandomizedSearchCV\n",
        "from catboost import CatBoostRegressor\n",
        "from xgboost import XGBRegressor\n",
        "# Model evaluation\n",
        "from src.model_performance import evaluate_model, print_evaluated_results\n",
        "# ensemble modelling\n",
        "from sklearn.ensemble import VotingRegressor\n",
        "from sklearn.linear_model import LinearRegression\n",
        "from sklearn.ensemble import StackingRegressor\n",
        "# save model\n",
        "import joblib\n"
      ]
    },
    {
      "cell_type": "code",
      "execution_count": 3,
      "metadata": {
        "id": "xLdZQ4urqrWF"
      },
      "outputs": [],
      "source": [
        "df = pd.read_csv(\"data/insurance.csv\")"
      ]
    },
    {
      "cell_type": "code",
      "execution_count": 4,
      "metadata": {
        "colab": {
          "base_uri": "https://localhost:8080/"
        },
        "id": "i9W13BRh8jq_",
        "outputId": "acfcfe5d-32f0-40c6-9387-54081b5c1067"
      },
      "outputs": [
        {
          "data": {
            "text/plain": [
              "(1338, 7)"
            ]
          },
          "execution_count": 4,
          "metadata": {},
          "output_type": "execute_result"
        }
      ],
      "source": [
        "df.shape"
      ]
    },
    {
      "cell_type": "code",
      "execution_count": 5,
      "metadata": {
        "colab": {
          "base_uri": "https://localhost:8080/",
          "height": 206
        },
        "id": "1MC0s5yYtOz4",
        "outputId": "7b333cb1-a9a1-4575-b011-258906d0f586"
      },
      "outputs": [
        {
          "data": {
            "text/html": [
              "<div>\n",
              "<style scoped>\n",
              "    .dataframe tbody tr th:only-of-type {\n",
              "        vertical-align: middle;\n",
              "    }\n",
              "\n",
              "    .dataframe tbody tr th {\n",
              "        vertical-align: top;\n",
              "    }\n",
              "\n",
              "    .dataframe thead th {\n",
              "        text-align: right;\n",
              "    }\n",
              "</style>\n",
              "<table border=\"1\" class=\"dataframe\">\n",
              "  <thead>\n",
              "    <tr style=\"text-align: right;\">\n",
              "      <th></th>\n",
              "      <th>age</th>\n",
              "      <th>sex</th>\n",
              "      <th>bmi</th>\n",
              "      <th>children</th>\n",
              "      <th>smoker</th>\n",
              "      <th>region</th>\n",
              "      <th>charges</th>\n",
              "    </tr>\n",
              "  </thead>\n",
              "  <tbody>\n",
              "    <tr>\n",
              "      <th>0</th>\n",
              "      <td>19</td>\n",
              "      <td>female</td>\n",
              "      <td>27.900</td>\n",
              "      <td>0</td>\n",
              "      <td>yes</td>\n",
              "      <td>southwest</td>\n",
              "      <td>16884.92400</td>\n",
              "    </tr>\n",
              "    <tr>\n",
              "      <th>1</th>\n",
              "      <td>18</td>\n",
              "      <td>male</td>\n",
              "      <td>33.770</td>\n",
              "      <td>1</td>\n",
              "      <td>no</td>\n",
              "      <td>southeast</td>\n",
              "      <td>1725.55230</td>\n",
              "    </tr>\n",
              "    <tr>\n",
              "      <th>2</th>\n",
              "      <td>28</td>\n",
              "      <td>male</td>\n",
              "      <td>33.000</td>\n",
              "      <td>3</td>\n",
              "      <td>no</td>\n",
              "      <td>southeast</td>\n",
              "      <td>4449.46200</td>\n",
              "    </tr>\n",
              "    <tr>\n",
              "      <th>3</th>\n",
              "      <td>33</td>\n",
              "      <td>male</td>\n",
              "      <td>22.705</td>\n",
              "      <td>0</td>\n",
              "      <td>no</td>\n",
              "      <td>northwest</td>\n",
              "      <td>21984.47061</td>\n",
              "    </tr>\n",
              "    <tr>\n",
              "      <th>4</th>\n",
              "      <td>32</td>\n",
              "      <td>male</td>\n",
              "      <td>28.880</td>\n",
              "      <td>0</td>\n",
              "      <td>no</td>\n",
              "      <td>northwest</td>\n",
              "      <td>3866.85520</td>\n",
              "    </tr>\n",
              "  </tbody>\n",
              "</table>\n",
              "</div>"
            ],
            "text/plain": [
              "   age     sex     bmi  children smoker     region      charges\n",
              "0   19  female  27.900         0    yes  southwest  16884.92400\n",
              "1   18    male  33.770         1     no  southeast   1725.55230\n",
              "2   28    male  33.000         3     no  southeast   4449.46200\n",
              "3   33    male  22.705         0     no  northwest  21984.47061\n",
              "4   32    male  28.880         0     no  northwest   3866.85520"
            ]
          },
          "execution_count": 5,
          "metadata": {},
          "output_type": "execute_result"
        }
      ],
      "source": [
        "df.head()"
      ]
    },
    {
      "cell_type": "markdown",
      "metadata": {},
      "source": [
        "#### Data Preprocessing\n",
        "- Handling duplicates by dropping \n",
        "- Get features and target variable\n",
        "- Train-test split \n",
        "- Encoding categorical variables  \n",
        "- Feature scaling  \n"
      ]
    },
    {
      "cell_type": "markdown",
      "metadata": {
        "id": "m4STkz_fuNCD"
      },
      "source": [
        "#### Dropping the duplicate row"
      ]
    },
    {
      "cell_type": "code",
      "execution_count": 6,
      "metadata": {
        "id": "kbUiGDz6tQeh"
      },
      "outputs": [],
      "source": [
        "df.drop_duplicates(inplace=True)"
      ]
    },
    {
      "cell_type": "markdown",
      "metadata": {
        "id": "xmNp3LxxujId"
      },
      "source": [
        "#### Getting the features(X) and target variable(y)"
      ]
    },
    {
      "cell_type": "code",
      "execution_count": 7,
      "metadata": {
        "id": "JckPfCBItdJe"
      },
      "outputs": [],
      "source": [
        "target = 'charges'\n",
        "X = df.drop(target, axis=1)\n",
        "y = df[target]"
      ]
    },
    {
      "cell_type": "code",
      "execution_count": 8,
      "metadata": {
        "id": "UvenqBI-weQW"
      },
      "outputs": [],
      "source": [
        "# Define which columns should be encoded and which should be scaled\n",
        "cat_features = X.select_dtypes(include='object').columns\n",
        "num_features = X.select_dtypes(exclude='object').columns\n"
      ]
    },
    {
      "cell_type": "markdown",
      "metadata": {
        "id": "ngBNhFzO47Dg"
      },
      "source": [
        "#### Train - test split"
      ]
    },
    {
      "cell_type": "code",
      "execution_count": 9,
      "metadata": {
        "id": "ufw5Dl344qKg"
      },
      "outputs": [],
      "source": [
        "# separate dataset into train and test\n",
        "X_train, X_test, y_train, y_test = train_test_split(X, y, test_size=0.2, random_state=42)"
      ]
    },
    {
      "cell_type": "code",
      "execution_count": 10,
      "metadata": {
        "id": "pxqpcQnnwd05"
      },
      "outputs": [],
      "source": [
        " #Define transformers\n",
        "num_transformer = Pipeline(steps=[\n",
        "    ('scaler', StandardScaler())\n",
        "])\n",
        "\n",
        "cat_transformer = Pipeline(steps=[\n",
        "    ('onehot', OneHotEncoder(handle_unknown='ignore'))\n",
        "])\n",
        "\n",
        "# ColumnTransformer\n",
        "preprocessor = ColumnTransformer(transformers=[\n",
        "    ('num', num_transformer, num_features),\n",
        "    ('cat', cat_transformer, cat_features)\n",
        "])"
      ]
    },
    {
      "cell_type": "markdown",
      "metadata": {
        "id": "7fCkSQFx61wO"
      },
      "source": [
        "#### Model Training"
      ]
    },
    {
      "cell_type": "code",
      "execution_count": 11,
      "metadata": {
        "colab": {
          "base_uri": "https://localhost:8080/"
        },
        "id": "nn1MCk0ZAV2p",
        "outputId": "02a9a45d-056a-4101-de76-9705f320cfe1"
      },
      "outputs": [
        {
          "name": "stdout",
          "output_type": "stream",
          "text": [
            "Linear Regression\n",
            "Model performance for Training set\n",
            "- Root Mean Squared Error: 6081.1069\n",
            "- Mean Absolute Error: 4181.9015\n",
            "- R2 Score: 0.7299\n",
            "----------------------------------\n",
            "Model performance for Test set\n",
            "- Root Mean Squared Error: 5956.3429\n",
            "- Mean Absolute Error: 4177.0456\n",
            "- R2 Score: 0.8069\n",
            "===================================\n",
            "\n",
            "\n",
            "Lasso\n",
            "Model performance for Training set\n",
            "- Root Mean Squared Error: 6081.1094\n",
            "- Mean Absolute Error: 4182.0241\n",
            "- R2 Score: 0.7299\n",
            "----------------------------------\n",
            "Model performance for Test set\n",
            "- Root Mean Squared Error: 5957.6178\n",
            "- Mean Absolute Error: 4177.8750\n",
            "- R2 Score: 0.8068\n",
            "===================================\n",
            "\n",
            "\n",
            "Ridge\n",
            "Model performance for Training set\n",
            "- Root Mean Squared Error: 6081.1696\n",
            "- Mean Absolute Error: 4185.9403\n",
            "- R2 Score: 0.7299\n",
            "----------------------------------\n",
            "Model performance for Test set\n",
            "- Root Mean Squared Error: 5964.2765\n",
            "- Mean Absolute Error: 4185.4070\n",
            "- R2 Score: 0.8064\n",
            "===================================\n",
            "\n",
            "\n",
            "K-Neighbors Regressor\n",
            "Model performance for Training set\n",
            "- Root Mean Squared Error: 4834.7794\n",
            "- Mean Absolute Error: 2918.5554\n",
            "- R2 Score: 0.8293\n",
            "----------------------------------\n",
            "Model performance for Test set\n",
            "- Root Mean Squared Error: 6335.1525\n",
            "- Mean Absolute Error: 3806.5823\n",
            "- R2 Score: 0.7816\n",
            "===================================\n",
            "\n",
            "\n",
            "Decision Tree\n",
            "Model performance for Training set\n",
            "- Root Mean Squared Error: 0.0000\n",
            "- Mean Absolute Error: 0.0000\n",
            "- R2 Score: 1.0000\n",
            "----------------------------------\n",
            "Model performance for Test set\n",
            "- Root Mean Squared Error: 6191.0185\n",
            "- Mean Absolute Error: 2840.0542\n",
            "- R2 Score: 0.7914\n",
            "===================================\n",
            "\n",
            "\n",
            "Random Forest Regressor\n",
            "Model performance for Training set\n",
            "- Root Mean Squared Error: 1846.4035\n",
            "- Mean Absolute Error: 1036.2570\n",
            "- R2 Score: 0.9751\n",
            "----------------------------------\n",
            "Model performance for Test set\n",
            "- Root Mean Squared Error: 4703.3223\n",
            "- Mean Absolute Error: 2610.8197\n",
            "- R2 Score: 0.8796\n",
            "===================================\n",
            "\n",
            "\n",
            "XGBRegressor\n",
            "Model performance for Training set\n",
            "- Root Mean Squared Error: 822.5030\n",
            "- Mean Absolute Error: 465.3182\n",
            "- R2 Score: 0.9951\n",
            "----------------------------------\n",
            "Model performance for Test set\n",
            "- Root Mean Squared Error: 5059.1409\n",
            "- Mean Absolute Error: 2856.9950\n",
            "- R2 Score: 0.8607\n",
            "===================================\n",
            "\n",
            "\n",
            "CatBoosting Regressor\n",
            "Model performance for Training set\n",
            "- Root Mean Squared Error: 2654.6953\n",
            "- Mean Absolute Error: 1462.0515\n",
            "- R2 Score: 0.9485\n",
            "----------------------------------\n",
            "Model performance for Test set\n",
            "- Root Mean Squared Error: 4608.2063\n",
            "- Mean Absolute Error: 2671.1327\n",
            "- R2 Score: 0.8844\n",
            "===================================\n",
            "\n",
            "\n",
            "AdaBoost Regressor\n",
            "Model performance for Training set\n",
            "- Root Mean Squared Error: 5043.1635\n",
            "- Mean Absolute Error: 4050.2733\n",
            "- R2 Score: 0.8142\n",
            "----------------------------------\n",
            "Model performance for Test set\n",
            "- Root Mean Squared Error: 5067.5062\n",
            "- Mean Absolute Error: 4169.9760\n",
            "- R2 Score: 0.8603\n",
            "===================================\n",
            "\n",
            "\n"
          ]
        }
      ],
      "source": [
        "models = {\n",
        "    \"Linear Regression\": LinearRegression(),\n",
        "    \"Lasso\": Lasso(),\n",
        "    \"Ridge\": Ridge(),\n",
        "    \"K-Neighbors Regressor\": KNeighborsRegressor(),\n",
        "    \"Decision Tree\": DecisionTreeRegressor(),\n",
        "    \"Random Forest Regressor\": RandomForestRegressor(),\n",
        "    \"XGBRegressor\": XGBRegressor(),\n",
        "    \"CatBoosting Regressor\": CatBoostRegressor(verbose=False),\n",
        "    \"AdaBoost Regressor\": AdaBoostRegressor()\n",
        "}\n",
        "\n",
        "model_names = []\n",
        "test_r2_scores = []\n",
        "test_rmse_scores = []\n",
        "\n",
        "for name, model in models.items():\n",
        "    # Build pipeline with preprocessing + model\n",
        "    pipeline = Pipeline([\n",
        "        ('preprocessor', preprocessor),\n",
        "        ('model', model)\n",
        "    ])\n",
        "\n",
        "    # Train on raw data \n",
        "    pipeline.fit(X_train, y_train)\n",
        "\n",
        "    # Predict on train and test\n",
        "    y_train_pred = pipeline.predict(X_train)\n",
        "    y_test_pred = pipeline.predict(X_test)\n",
        "\n",
        "    # Evaluate performance\n",
        "    train_mae, train_rmse, train_r2 = evaluate_model(y_train, y_train_pred)\n",
        "    test_mae, test_rmse, test_r2 = evaluate_model(y_test, y_test_pred)\n",
        "\n",
        "    print(f\"{name}\")\n",
        "    print('Model performance for Training set')\n",
        "    print(\"- Root Mean Squared Error: {:.4f}\".format(train_rmse))\n",
        "    print(\"- Mean Absolute Error: {:.4f}\".format(train_mae))\n",
        "    print(\"- R2 Score: {:.4f}\".format(train_r2))\n",
        "\n",
        "    print('----------------------------------')\n",
        "\n",
        "    print('Model performance for Test set')\n",
        "    print(\"- Root Mean Squared Error: {:.4f}\".format(test_rmse))\n",
        "    print(\"- Mean Absolute Error: {:.4f}\".format(test_mae))\n",
        "    print(\"- R2 Score: {:.4f}\".format(test_r2))\n",
        "\n",
        "    model_names.append(name)\n",
        "    test_r2_scores.append(test_r2)\n",
        "    test_rmse_scores.append(test_rmse)\n",
        "    print('='*35)\n",
        "    print('\\n')"
      ]
    },
    {
      "cell_type": "markdown",
      "metadata": {
        "id": "UgI_jOl9iuvV"
      },
      "source": [
        "### Results"
      ]
    },
    {
      "cell_type": "code",
      "execution_count": 12,
      "metadata": {
        "colab": {
          "base_uri": "https://localhost:8080/",
          "height": 331
        },
        "id": "JvLNJ-in-jZe",
        "outputId": "fcda9a07-2d82-46c3-a27a-95f55d9e0530"
      },
      "outputs": [
        {
          "data": {
            "text/html": [
              "<div>\n",
              "<style scoped>\n",
              "    .dataframe tbody tr th:only-of-type {\n",
              "        vertical-align: middle;\n",
              "    }\n",
              "\n",
              "    .dataframe tbody tr th {\n",
              "        vertical-align: top;\n",
              "    }\n",
              "\n",
              "    .dataframe thead th {\n",
              "        text-align: right;\n",
              "    }\n",
              "</style>\n",
              "<table border=\"1\" class=\"dataframe\">\n",
              "  <thead>\n",
              "    <tr style=\"text-align: right;\">\n",
              "      <th></th>\n",
              "      <th>Model Name</th>\n",
              "      <th>R2_Score</th>\n",
              "      <th>RMSE</th>\n",
              "    </tr>\n",
              "  </thead>\n",
              "  <tbody>\n",
              "    <tr>\n",
              "      <th>7</th>\n",
              "      <td>CatBoosting Regressor</td>\n",
              "      <td>0.884436</td>\n",
              "      <td>4608.206251</td>\n",
              "    </tr>\n",
              "    <tr>\n",
              "      <th>5</th>\n",
              "      <td>Random Forest Regressor</td>\n",
              "      <td>0.879616</td>\n",
              "      <td>4703.322329</td>\n",
              "    </tr>\n",
              "    <tr>\n",
              "      <th>6</th>\n",
              "      <td>XGBRegressor</td>\n",
              "      <td>0.860713</td>\n",
              "      <td>5059.140897</td>\n",
              "    </tr>\n",
              "    <tr>\n",
              "      <th>8</th>\n",
              "      <td>AdaBoost Regressor</td>\n",
              "      <td>0.860252</td>\n",
              "      <td>5067.506165</td>\n",
              "    </tr>\n",
              "    <tr>\n",
              "      <th>0</th>\n",
              "      <td>Linear Regression</td>\n",
              "      <td>0.806929</td>\n",
              "      <td>5956.342894</td>\n",
              "    </tr>\n",
              "    <tr>\n",
              "      <th>1</th>\n",
              "      <td>Lasso</td>\n",
              "      <td>0.806846</td>\n",
              "      <td>5957.617816</td>\n",
              "    </tr>\n",
              "    <tr>\n",
              "      <th>2</th>\n",
              "      <td>Ridge</td>\n",
              "      <td>0.806414</td>\n",
              "      <td>5964.276526</td>\n",
              "    </tr>\n",
              "    <tr>\n",
              "      <th>4</th>\n",
              "      <td>Decision Tree</td>\n",
              "      <td>0.791415</td>\n",
              "      <td>6191.018540</td>\n",
              "    </tr>\n",
              "    <tr>\n",
              "      <th>3</th>\n",
              "      <td>K-Neighbors Regressor</td>\n",
              "      <td>0.781590</td>\n",
              "      <td>6335.152462</td>\n",
              "    </tr>\n",
              "  </tbody>\n",
              "</table>\n",
              "</div>"
            ],
            "text/plain": [
              "                Model Name  R2_Score         RMSE\n",
              "7    CatBoosting Regressor  0.884436  4608.206251\n",
              "5  Random Forest Regressor  0.879616  4703.322329\n",
              "6             XGBRegressor  0.860713  5059.140897\n",
              "8       AdaBoost Regressor  0.860252  5067.506165\n",
              "0        Linear Regression  0.806929  5956.342894\n",
              "1                    Lasso  0.806846  5957.617816\n",
              "2                    Ridge  0.806414  5964.276526\n",
              "4            Decision Tree  0.791415  6191.018540\n",
              "3    K-Neighbors Regressor  0.781590  6335.152462"
            ]
          },
          "execution_count": 12,
          "metadata": {},
          "output_type": "execute_result"
        }
      ],
      "source": [
        "df_results = pd.DataFrame(\n",
        "    list(zip(model_names, test_r2_scores, test_rmse_scores)),\n",
        "    columns=['Model Name', 'R2_Score', 'RMSE']\n",
        ").sort_values(by=[\"R2_Score\"], ascending=False)\n",
        "\n",
        "df_results\n"
      ]
    },
    {
      "cell_type": "markdown",
      "metadata": {
        "id": "r7KGR2L-km67"
      },
      "source": [
        "### Hyperparameter Tuning"
      ]
    },
    {
      "cell_type": "code",
      "execution_count": 13,
      "metadata": {
        "colab": {
          "base_uri": "https://localhost:8080/"
        },
        "id": "E9pz0qd5PKnl",
        "outputId": "de5027e5-1545-4d2e-db3d-bf66a95a2b98"
      },
      "outputs": [
        {
          "name": "stdout",
          "output_type": "stream",
          "text": [
            "Best CatBoost Params: {'model__learning_rate': 0.01, 'model__iterations': 400, 'model__depth': 4}\n",
            "Best CatBoost R2_score: 0.8429302962243813\n"
          ]
        }
      ],
      "source": [
        "# Creating the hyperparameter grid for CatBoost\n",
        "cat_param_grid = {\n",
        "    'model__depth': [4, 5, 6, 7, 8, 9, 10],\n",
        "    'model__learning_rate': [0.01, 0.02, 0.03, 0.04],\n",
        "    'model__iterations': [300, 400, 500, 600]\n",
        "}\n",
        "\n",
        "# Define the pipeline\n",
        "cat_pipeline = Pipeline([\n",
        "    ('preprocessor', preprocessor),\n",
        "    ('model', CatBoostRegressor(verbose=False))\n",
        "])\n",
        "\n",
        "# RandomizedSearchCV with pipeline\n",
        "cat_search = RandomizedSearchCV(\n",
        "    estimator=cat_pipeline,\n",
        "    param_distributions=cat_param_grid,\n",
        "    n_iter=10,\n",
        "    cv=5,\n",
        "    n_jobs=-1,\n",
        "    scoring='r2',\n",
        "    random_state=42\n",
        ")\n",
        "\n",
        "# Fit search\n",
        "cat_search.fit(X_train, y_train)\n",
        "\n",
        "# Results\n",
        "print(\"Best CatBoost Params:\", cat_search.best_params_)\n",
        "print(\"Best CatBoost R2_score:\", cat_search.best_score_)\n"
      ]
    },
    {
      "cell_type": "code",
      "execution_count": 14,
      "metadata": {
        "colab": {
          "base_uri": "https://localhost:8080/"
        },
        "id": "HtsSeeKnr91X",
        "outputId": "77817069-a94e-4f65-9c4e-1fd6b7351280"
      },
      "outputs": [
        {
          "name": "stdout",
          "output_type": "stream",
          "text": [
            "Model performance for Training set\n",
            "- Root Mean Squared Error: 4431.4391\n",
            "- Mean Absolute Error: 2535.9612\n",
            "- R2 Score: 0.8566\n",
            "----------------------------------\n",
            "Model performance for Test set\n",
            "- Root Mean Squared Error: 4358.4370\n",
            "- Mean Absolute Error: 2575.4553\n",
            "- R2 Score: 0.8966\n"
          ]
        }
      ],
      "source": [
        "# Selecting best model\n",
        "best_cbr = cat_search.best_estimator_\n",
        "\n",
        "# Evaluate Train and Test dataset\n",
        "print_evaluated_results(best_cbr,X_train,y_train,X_test,y_test)"
      ]
    },
    {
      "cell_type": "markdown",
      "metadata": {
        "id": "HebD_107wVG0"
      },
      "source": [
        "#### Tuning XGBRegressor"
      ]
    },
    {
      "cell_type": "code",
      "execution_count": 15,
      "metadata": {
        "colab": {
          "base_uri": "https://localhost:8080/"
        },
        "id": "v_t_ix0mKHGD",
        "outputId": "89abc47d-9d49-47bb-e0aa-6c699e58a767"
      },
      "outputs": [
        {
          "name": "stdout",
          "output_type": "stream",
          "text": [
            "Fitting 5 folds for each of 100 candidates, totalling 500 fits\n",
            "Best XGBRegressor Params: {'model__n_estimators': 500, 'model__min_child_weight': 7, 'model__max_depth': 3, 'model__learning_rate': 0.05, 'model__gamma': 0.3, 'model__colsample_bytree': 0.5}\n",
            "Best XGBRegressor R2_score: 0.8322124061148763\n"
          ]
        }
      ],
      "source": [
        "# Hyperparameter grid (note the 'model__' prefix)\n",
        "xgb_param_grid = {\n",
        "    'model__learning_rate': [0.05, 0.10, 0.15, 0.20, 0.25, 0.30],\n",
        "    'model__max_depth': [3, 4, 5, 6, 8, 10, 12, 15],\n",
        "    'model__min_child_weight': [1, 3, 5, 7],\n",
        "    'model__gamma': [0.0, 0.1, 0.2, 0.3, 0.4],\n",
        "    'model__colsample_bytree': [0.3, 0.4, 0.5, 0.7],\n",
        "    'model__n_estimators': [300, 400, 500, 600]\n",
        "}\n",
        "\n",
        "# Pipeline including preprocessing\n",
        "xgb_pipeline = Pipeline([\n",
        "    ('preprocessor', preprocessor),\n",
        "    ('model', XGBRegressor(random_state=42))\n",
        "])\n",
        "\n",
        "# Randomized SearchCV using pipeline\n",
        "xgb_search = RandomizedSearchCV(\n",
        "    estimator=xgb_pipeline,\n",
        "    param_distributions=xgb_param_grid,\n",
        "    n_iter=100,\n",
        "    cv=5,\n",
        "    scoring='r2',\n",
        "    n_jobs=-1,\n",
        "    random_state=42,\n",
        "    verbose=1\n",
        ")\n",
        "\n",
        "# Fit the search\n",
        "xgb_search.fit(X_train, y_train)\n",
        "\n",
        "# Results\n",
        "print(\"Best XGBRegressor Params:\", xgb_search.best_params_)\n",
        "print(\"Best XGBRegressor R2_score:\", xgb_search.best_score_)\n"
      ]
    },
    {
      "cell_type": "code",
      "execution_count": 16,
      "metadata": {
        "colab": {
          "base_uri": "https://localhost:8080/"
        },
        "id": "q33NZPhkxPyu",
        "outputId": "cff7145d-0cd9-47c5-fc5f-e233d4f9ac23"
      },
      "outputs": [
        {
          "name": "stdout",
          "output_type": "stream",
          "text": [
            "Model performance for Training set\n",
            "- Root Mean Squared Error: 3956.9107\n",
            "- Mean Absolute Error: 2199.1965\n",
            "- R2 Score: 0.8856\n",
            "----------------------------------\n",
            "Model performance for Test set\n",
            "- Root Mean Squared Error: 4420.8725\n",
            "- Mean Absolute Error: 2666.8002\n",
            "- R2 Score: 0.8936\n"
          ]
        }
      ],
      "source": [
        "# Selecting best xgb model\n",
        "best_xgb = xgb_search.best_estimator_\n",
        "\n",
        "# Evaluate Train and Test dataset\n",
        "print_evaluated_results(best_xgb,X_train,y_train,X_test,y_test)"
      ]
    },
    {
      "cell_type": "markdown",
      "metadata": {
        "id": "ySI6_WLdKlr4"
      },
      "source": [
        "#### Random forest hyperparameter tuning"
      ]
    },
    {
      "cell_type": "code",
      "execution_count": 17,
      "metadata": {
        "colab": {
          "base_uri": "https://localhost:8080/"
        },
        "id": "MynWlyD5L2pD",
        "outputId": "e29666cd-31e9-4f64-c5d6-80503f6f7a06"
      },
      "outputs": [
        {
          "name": "stdout",
          "output_type": "stream",
          "text": [
            "Fitting 5 folds for each of 10 candidates, totalling 50 fits\n",
            "Best Random Forest Params: {'model__n_estimators': 300, 'model__min_samples_split': 2, 'model__min_samples_leaf': 1, 'model__max_features': 'sqrt', 'model__max_depth': 20}\n",
            "Best Random Forest R2_score: 0.826439413908659\n"
          ]
        }
      ],
      "source": [
        "rf_params = {\n",
        "    'model__n_estimators': [100, 200, 300, 400, 500],\n",
        "    'model__max_depth': [None, 5, 10, 15, 20],\n",
        "    'model__min_samples_split': [2, 5, 10],\n",
        "    'model__min_samples_leaf': [1, 2, 4],\n",
        "    'model__max_features': ['auto', 'sqrt']\n",
        "}\n",
        "\n",
        "# Define pipeline\n",
        "rf_pipeline = Pipeline([\n",
        "    ('preprocessor', preprocessor),\n",
        "    ('model', RandomForestRegressor(random_state=42))\n",
        "])\n",
        "\n",
        "# RandomizedSearchCV\n",
        "rf_search = RandomizedSearchCV(\n",
        "    rf_pipeline,\n",
        "    param_distributions=rf_params,\n",
        "    n_iter=10,\n",
        "    cv=5,\n",
        "    n_jobs=-1,\n",
        "    scoring='r2',\n",
        "    random_state=42,\n",
        "    verbose=1\n",
        ")\n",
        "\n",
        "# Fit the search\n",
        "rf_search.fit(X_train, y_train)\n",
        "\n",
        "# Output best results\n",
        "print(\"Best Random Forest Params:\", rf_search.best_params_)\n",
        "print(\"Best Random Forest R2_score:\", rf_search.best_score_)\n"
      ]
    },
    {
      "cell_type": "code",
      "execution_count": 18,
      "metadata": {
        "colab": {
          "base_uri": "https://localhost:8080/"
        },
        "id": "HNTwvfBIywjw",
        "outputId": "dce03e4a-740a-4e7c-cf9c-61c7a2f67c57"
      },
      "outputs": [
        {
          "name": "stdout",
          "output_type": "stream",
          "text": [
            "Model performance for Training set\n",
            "- Root Mean Squared Error: 1788.3521\n",
            "- Mean Absolute Error: 1018.2724\n",
            "- R2 Score: 0.9766\n",
            "----------------------------------\n",
            "Model performance for Test set\n",
            "- Root Mean Squared Error: 4787.5756\n",
            "- Mean Absolute Error: 2766.5365\n",
            "- R2 Score: 0.8753\n"
          ]
        }
      ],
      "source": [
        "# Selecting best rf model\n",
        "best_rf = rf_search.best_estimator_\n",
        "\n",
        "# Evaluate Train and Test dataset\n",
        "print_evaluated_results(best_rf,X_train,y_train,X_test,y_test)"
      ]
    },
    {
      "cell_type": "code",
      "execution_count": 19,
      "metadata": {
        "colab": {
          "base_uri": "https://localhost:8080/"
        },
        "id": "dJR7qhGRzxjc",
        "outputId": "e501fce1-a957-48f4-dd9f-4bce7f5dbf97"
      },
      "outputs": [
        {
          "name": "stdout",
          "output_type": "stream",
          "text": [
            "Fitting 5 folds for each of 90 candidates, totalling 450 fits\n",
            "Best AdaBoost Params: {'model__n_estimators': 50, 'model__loss': 'exponential', 'model__learning_rate': 0.01}\n",
            "Best AdaBoost R2_score: 0.8311618999296911\n"
          ]
        }
      ],
      "source": [
        "ada_params = {\n",
        "    'model__n_estimators': [50, 100, 200, 300, 500],\n",
        "    'model__learning_rate': [0.01, 0.05, 0.1, 0.2, 0.3, 1.0],\n",
        "    'model__loss': ['linear', 'square', 'exponential']\n",
        "}\n",
        "\n",
        "# Define pipeline\n",
        "ada_pipeline = Pipeline([\n",
        "    ('preprocessor', preprocessor),\n",
        "    ('model', AdaBoostRegressor(random_state=42))\n",
        "])\n",
        "\n",
        "# Randomized search\n",
        "ada_search = RandomizedSearchCV(\n",
        "    estimator=ada_pipeline,\n",
        "    param_distributions=ada_params,\n",
        "    n_iter=100,\n",
        "    cv=5,\n",
        "    scoring='r2',\n",
        "    n_jobs=-1,\n",
        "    random_state=42,\n",
        "    verbose=1\n",
        ")\n",
        "\n",
        "# Fit search\n",
        "ada_search.fit(X_train, y_train)\n",
        "\n",
        "# Results\n",
        "print(\"Best AdaBoost Params:\", ada_search.best_params_)\n",
        "print(\"Best AdaBoost R2_score:\", ada_search.best_score_)\n"
      ]
    },
    {
      "cell_type": "code",
      "execution_count": 20,
      "metadata": {
        "colab": {
          "base_uri": "https://localhost:8080/"
        },
        "id": "VAbSyWd70A__",
        "outputId": "2208a007-59fb-4db4-ba3c-1a256cb90bbe"
      },
      "outputs": [
        {
          "name": "stdout",
          "output_type": "stream",
          "text": [
            "Model performance for Training set\n",
            "- Root Mean Squared Error: 4548.8813\n",
            "- Mean Absolute Error: 2858.2712\n",
            "- R2 Score: 0.8489\n",
            "----------------------------------\n",
            "Model performance for Test set\n",
            "- Root Mean Squared Error: 4462.1888\n",
            "- Mean Absolute Error: 2936.6425\n",
            "- R2 Score: 0.8916\n"
          ]
        }
      ],
      "source": [
        "# Selecting best adaboost model\n",
        "best_ada = ada_search.best_estimator_\n",
        "\n",
        "# Evaluate Train and Test dataset\n",
        "print_evaluated_results(best_ada,X_train,y_train,X_test,y_test)"
      ]
    },
    {
      "cell_type": "code",
      "execution_count": null,
      "metadata": {
        "id": "Ns11XtnrS9UR"
      },
      "outputs": [],
      "source": []
    },
    {
      "cell_type": "code",
      "execution_count": null,
      "metadata": {
        "colab": {
          "base_uri": "https://localhost:8080/"
        },
        "id": "puOpiDzMCZIH",
        "outputId": "a5454241-f105-4452-e6f7-df1358717c61"
      },
      "outputs": [
        {
          "data": {
            "text/plain": [
              "['/content/drive/MyDrive/insurance_pricing_ml/models/adaboost_model.pkl']"
            ]
          },
          "execution_count": 25,
          "metadata": {},
          "output_type": "execute_result"
        }
      ],
      "source": [
        "joblib.dump(best_cbr, '/content/drive/MyDrive/insurance_pricing_ml/models/catboost_model.pkl')\n",
        "joblib.dump(best_xgb, '/content/drive/MyDrive/insurance_pricing_ml/models/xgboost_model.pkl')\n",
        "joblib.dump(best_ada, '/content/drive/MyDrive/insurance_pricing_ml/models/adaboost_model.pkl')\n"
      ]
    },
    {
      "cell_type": "markdown",
      "metadata": {
        "id": "xylF67cyQRzm"
      },
      "source": [
        "#### Improving model performance with Ensemble technique"
      ]
    },
    {
      "cell_type": "code",
      "execution_count": 22,
      "metadata": {
        "colab": {
          "base_uri": "https://localhost:8080/",
          "height": 408
        },
        "id": "VrpWnZcp5J6a",
        "outputId": "77f1a415-25e1-4282-a629-fe925064caff"
      },
      "outputs": [
        {
          "name": "stdout",
          "output_type": "stream",
          "text": [
            "Model performance for Training set\n",
            "- Root Mean Squared Error: 4218.5835\n",
            "- Mean Absolute Error: 2417.6043\n",
            "- R2 Score: 0.8700\n",
            "----------------------------------\n",
            "Model performance for Test set\n",
            "- Root Mean Squared Error: 4285.7039\n",
            "- Mean Absolute Error: 2610.3511\n",
            "- R2 Score: 0.9000\n"
          ]
        }
      ],
      "source": [
        "# Extract raw trained models from their pipelines\n",
        "catboost_model = best_cbr.named_steps['model']\n",
        "xgb_model = best_xgb.named_steps['model']\n",
        "ada_model = best_ada.named_steps['model']\n",
        "\n",
        "# Define the ensemble voting regressor with trained models\n",
        "voting_reg = VotingRegressor(\n",
        "    estimators=[\n",
        "        ('catboost', catboost_model),\n",
        "        ('xgboost', xgb_model),\n",
        "        ('adaboost', ada_model)\n",
        "    ]\n",
        ")\n",
        "\n",
        "# Wrap the entire ensemble in a pipeline with a single shared preprocessor\n",
        "voting_pipeline = Pipeline([\n",
        "    ('preprocessor', preprocessor),\n",
        "    ('model', voting_reg)\n",
        "])\n",
        "\n",
        "# Fit the ensemble pipeline\n",
        "voting_pipeline.fit(X_train, y_train)\n",
        "\n",
        "# Evaluate performance\n",
        "print_evaluated_results(voting_pipeline, X_train, y_train, X_test, y_test)"
      ]
    },
    {
      "cell_type": "code",
      "execution_count": 24,
      "metadata": {
        "colab": {
          "base_uri": "https://localhost:8080/",
          "height": 211
        },
        "id": "iTYxZiZpVdZQ",
        "outputId": "ed158b47-1a8f-48f7-ba7f-847d7133ba8b"
      },
      "outputs": [
        {
          "name": "stdout",
          "output_type": "stream",
          "text": [
            "Model performance for Training set\n",
            "- Root Mean Squared Error: 4335.6435\n",
            "- Mean Absolute Error: 2394.1836\n",
            "- R2 Score: 0.8627\n",
            "----------------------------------\n",
            "Model performance for Test set\n",
            "- Root Mean Squared Error: 4209.5625\n",
            "- Mean Absolute Error: 2454.5471\n",
            "- R2 Score: 0.9036\n"
          ]
        }
      ],
      "source": [
        "from sklearn.pipeline import Pipeline\n",
        "from sklearn.ensemble import StackingRegressor\n",
        "from sklearn.linear_model import LinearRegression\n",
        "\n",
        "\n",
        "# Extract trained models (already tuned) from their pipelines\n",
        "catboost_model = best_cbr.named_steps['model']\n",
        "xgb_model = best_xgb.named_steps['model']\n",
        "ada_model = best_ada.named_steps['model']\n",
        "\n",
        "stacking_model = StackingRegressor(\n",
        "    estimators=[\n",
        "        ('catboost', catboost_model),\n",
        "        ('xgboost', xgb_model),\n",
        "        ('adaboost', ada_model)\n",
        "    ],\n",
        "    final_estimator=LinearRegression(),\n",
        "    cv=5,\n",
        "    n_jobs=-1\n",
        ")\n",
        "\n",
        "# Meta-model\n",
        "meta_model = LinearRegression()\n",
        "\n",
        "\n",
        "\n",
        "# Wrap in a pipeline (this is now deployable)\n",
        "stacking_pipeline = Pipeline([\n",
        "    ('preprocessor', preprocessor),\n",
        "    ('model', stacking_model)\n",
        "])\n",
        "\n",
        "# Fit the full pipeline\n",
        "stacking_pipeline.fit(X_train, y_train)\n",
        "\n",
        "# Evaluate\n",
        "print_evaluated_results(stacking_pipeline, X_train, y_train, X_test, y_test)\n"
      ]
    },
    {
      "cell_type": "code",
      "execution_count": null,
      "metadata": {
        "id": "I_qj6GND-GJl"
      },
      "outputs": [
        {
          "name": "stdout",
          "output_type": "stream",
          "text": [
            "                     Model    Test RMSE     Test MAE  Test R2 Score\n",
            "5       Stacking Regressor  4209.562460  2454.547060       0.903566\n",
            "4         Voting Regressor  4285.703878  2610.351109       0.900045\n",
            "0       CatBoost Regressor  4358.436979  2575.455341       0.896624\n",
            "1        XGBoost Regressor  4420.872535  2666.800160       0.893641\n",
            "3       AdaBoost Regressor  4462.188801  2936.642492       0.891644\n",
            "2  Random Forest Regressor  4787.575587  2766.536526       0.875265\n"
          ]
        },
        {
          "ename": "OSError",
          "evalue": "Cannot save file into a non-existent directory: '\\content\\drive\\MyDrive\\insurance_pricing_ml\\models'",
          "output_type": "error",
          "traceback": [
            "\u001b[1;31m---------------------------------------------------------------------------\u001b[0m",
            "\u001b[1;31mOSError\u001b[0m                                   Traceback (most recent call last)",
            "Cell \u001b[1;32mIn[26], line 38\u001b[0m\n\u001b[0;32m     35\u001b[0m \u001b[38;5;28mprint\u001b[39m(summary_df)\n\u001b[0;32m     37\u001b[0m \u001b[38;5;66;03m# Optionally export to CSV\u001b[39;00m\n\u001b[1;32m---> 38\u001b[0m \u001b[43msummary_df\u001b[49m\u001b[38;5;241;43m.\u001b[39;49m\u001b[43mto_csv\u001b[49m\u001b[43m(\u001b[49m\u001b[38;5;124;43m\"\u001b[39;49m\u001b[38;5;124;43m/content/drive/MyDrive/insurance_pricing_ml/models/model_comparison_summary.csv\u001b[39;49m\u001b[38;5;124;43m\"\u001b[39;49m\u001b[43m,\u001b[49m\u001b[43m \u001b[49m\u001b[43mindex\u001b[49m\u001b[38;5;241;43m=\u001b[39;49m\u001b[38;5;28;43;01mFalse\u001b[39;49;00m\u001b[43m)\u001b[49m\n",
            "File \u001b[1;32mc:\\Users\\HP\\Desktop\\ML_Portfolio\\insurance-pricing-prediction-pipeline\\insurance-ml\\lib\\site-packages\\pandas\\util\\_decorators.py:333\u001b[0m, in \u001b[0;36mdeprecate_nonkeyword_arguments.<locals>.decorate.<locals>.wrapper\u001b[1;34m(*args, **kwargs)\u001b[0m\n\u001b[0;32m    327\u001b[0m \u001b[38;5;28;01mif\u001b[39;00m \u001b[38;5;28mlen\u001b[39m(args) \u001b[38;5;241m>\u001b[39m num_allow_args:\n\u001b[0;32m    328\u001b[0m     warnings\u001b[38;5;241m.\u001b[39mwarn(\n\u001b[0;32m    329\u001b[0m         msg\u001b[38;5;241m.\u001b[39mformat(arguments\u001b[38;5;241m=\u001b[39m_format_argument_list(allow_args)),\n\u001b[0;32m    330\u001b[0m         \u001b[38;5;167;01mFutureWarning\u001b[39;00m,\n\u001b[0;32m    331\u001b[0m         stacklevel\u001b[38;5;241m=\u001b[39mfind_stack_level(),\n\u001b[0;32m    332\u001b[0m     )\n\u001b[1;32m--> 333\u001b[0m \u001b[38;5;28;01mreturn\u001b[39;00m func(\u001b[38;5;241m*\u001b[39margs, \u001b[38;5;241m*\u001b[39m\u001b[38;5;241m*\u001b[39mkwargs)\n",
            "File \u001b[1;32mc:\\Users\\HP\\Desktop\\ML_Portfolio\\insurance-pricing-prediction-pipeline\\insurance-ml\\lib\\site-packages\\pandas\\core\\generic.py:3967\u001b[0m, in \u001b[0;36mNDFrame.to_csv\u001b[1;34m(self, path_or_buf, sep, na_rep, float_format, columns, header, index, index_label, mode, encoding, compression, quoting, quotechar, lineterminator, chunksize, date_format, doublequote, escapechar, decimal, errors, storage_options)\u001b[0m\n\u001b[0;32m   3956\u001b[0m df \u001b[38;5;241m=\u001b[39m \u001b[38;5;28mself\u001b[39m \u001b[38;5;28;01mif\u001b[39;00m \u001b[38;5;28misinstance\u001b[39m(\u001b[38;5;28mself\u001b[39m, ABCDataFrame) \u001b[38;5;28;01melse\u001b[39;00m \u001b[38;5;28mself\u001b[39m\u001b[38;5;241m.\u001b[39mto_frame()\n\u001b[0;32m   3958\u001b[0m formatter \u001b[38;5;241m=\u001b[39m DataFrameFormatter(\n\u001b[0;32m   3959\u001b[0m     frame\u001b[38;5;241m=\u001b[39mdf,\n\u001b[0;32m   3960\u001b[0m     header\u001b[38;5;241m=\u001b[39mheader,\n\u001b[1;32m   (...)\u001b[0m\n\u001b[0;32m   3964\u001b[0m     decimal\u001b[38;5;241m=\u001b[39mdecimal,\n\u001b[0;32m   3965\u001b[0m )\n\u001b[1;32m-> 3967\u001b[0m \u001b[38;5;28;01mreturn\u001b[39;00m \u001b[43mDataFrameRenderer\u001b[49m\u001b[43m(\u001b[49m\u001b[43mformatter\u001b[49m\u001b[43m)\u001b[49m\u001b[38;5;241;43m.\u001b[39;49m\u001b[43mto_csv\u001b[49m\u001b[43m(\u001b[49m\n\u001b[0;32m   3968\u001b[0m \u001b[43m    \u001b[49m\u001b[43mpath_or_buf\u001b[49m\u001b[43m,\u001b[49m\n\u001b[0;32m   3969\u001b[0m \u001b[43m    \u001b[49m\u001b[43mlineterminator\u001b[49m\u001b[38;5;241;43m=\u001b[39;49m\u001b[43mlineterminator\u001b[49m\u001b[43m,\u001b[49m\n\u001b[0;32m   3970\u001b[0m \u001b[43m    \u001b[49m\u001b[43msep\u001b[49m\u001b[38;5;241;43m=\u001b[39;49m\u001b[43msep\u001b[49m\u001b[43m,\u001b[49m\n\u001b[0;32m   3971\u001b[0m \u001b[43m    \u001b[49m\u001b[43mencoding\u001b[49m\u001b[38;5;241;43m=\u001b[39;49m\u001b[43mencoding\u001b[49m\u001b[43m,\u001b[49m\n\u001b[0;32m   3972\u001b[0m \u001b[43m    \u001b[49m\u001b[43merrors\u001b[49m\u001b[38;5;241;43m=\u001b[39;49m\u001b[43merrors\u001b[49m\u001b[43m,\u001b[49m\n\u001b[0;32m   3973\u001b[0m \u001b[43m    \u001b[49m\u001b[43mcompression\u001b[49m\u001b[38;5;241;43m=\u001b[39;49m\u001b[43mcompression\u001b[49m\u001b[43m,\u001b[49m\n\u001b[0;32m   3974\u001b[0m \u001b[43m    \u001b[49m\u001b[43mquoting\u001b[49m\u001b[38;5;241;43m=\u001b[39;49m\u001b[43mquoting\u001b[49m\u001b[43m,\u001b[49m\n\u001b[0;32m   3975\u001b[0m \u001b[43m    \u001b[49m\u001b[43mcolumns\u001b[49m\u001b[38;5;241;43m=\u001b[39;49m\u001b[43mcolumns\u001b[49m\u001b[43m,\u001b[49m\n\u001b[0;32m   3976\u001b[0m \u001b[43m    \u001b[49m\u001b[43mindex_label\u001b[49m\u001b[38;5;241;43m=\u001b[39;49m\u001b[43mindex_label\u001b[49m\u001b[43m,\u001b[49m\n\u001b[0;32m   3977\u001b[0m \u001b[43m    \u001b[49m\u001b[43mmode\u001b[49m\u001b[38;5;241;43m=\u001b[39;49m\u001b[43mmode\u001b[49m\u001b[43m,\u001b[49m\n\u001b[0;32m   3978\u001b[0m \u001b[43m    \u001b[49m\u001b[43mchunksize\u001b[49m\u001b[38;5;241;43m=\u001b[39;49m\u001b[43mchunksize\u001b[49m\u001b[43m,\u001b[49m\n\u001b[0;32m   3979\u001b[0m \u001b[43m    \u001b[49m\u001b[43mquotechar\u001b[49m\u001b[38;5;241;43m=\u001b[39;49m\u001b[43mquotechar\u001b[49m\u001b[43m,\u001b[49m\n\u001b[0;32m   3980\u001b[0m \u001b[43m    \u001b[49m\u001b[43mdate_format\u001b[49m\u001b[38;5;241;43m=\u001b[39;49m\u001b[43mdate_format\u001b[49m\u001b[43m,\u001b[49m\n\u001b[0;32m   3981\u001b[0m \u001b[43m    \u001b[49m\u001b[43mdoublequote\u001b[49m\u001b[38;5;241;43m=\u001b[39;49m\u001b[43mdoublequote\u001b[49m\u001b[43m,\u001b[49m\n\u001b[0;32m   3982\u001b[0m \u001b[43m    \u001b[49m\u001b[43mescapechar\u001b[49m\u001b[38;5;241;43m=\u001b[39;49m\u001b[43mescapechar\u001b[49m\u001b[43m,\u001b[49m\n\u001b[0;32m   3983\u001b[0m \u001b[43m    \u001b[49m\u001b[43mstorage_options\u001b[49m\u001b[38;5;241;43m=\u001b[39;49m\u001b[43mstorage_options\u001b[49m\u001b[43m,\u001b[49m\n\u001b[0;32m   3984\u001b[0m \u001b[43m\u001b[49m\u001b[43m)\u001b[49m\n",
            "File \u001b[1;32mc:\\Users\\HP\\Desktop\\ML_Portfolio\\insurance-pricing-prediction-pipeline\\insurance-ml\\lib\\site-packages\\pandas\\io\\formats\\format.py:1014\u001b[0m, in \u001b[0;36mDataFrameRenderer.to_csv\u001b[1;34m(self, path_or_buf, encoding, sep, columns, index_label, mode, compression, quoting, quotechar, lineterminator, chunksize, date_format, doublequote, escapechar, errors, storage_options)\u001b[0m\n\u001b[0;32m    993\u001b[0m     created_buffer \u001b[38;5;241m=\u001b[39m \u001b[38;5;28;01mFalse\u001b[39;00m\n\u001b[0;32m    995\u001b[0m csv_formatter \u001b[38;5;241m=\u001b[39m CSVFormatter(\n\u001b[0;32m    996\u001b[0m     path_or_buf\u001b[38;5;241m=\u001b[39mpath_or_buf,\n\u001b[0;32m    997\u001b[0m     lineterminator\u001b[38;5;241m=\u001b[39mlineterminator,\n\u001b[1;32m   (...)\u001b[0m\n\u001b[0;32m   1012\u001b[0m     formatter\u001b[38;5;241m=\u001b[39m\u001b[38;5;28mself\u001b[39m\u001b[38;5;241m.\u001b[39mfmt,\n\u001b[0;32m   1013\u001b[0m )\n\u001b[1;32m-> 1014\u001b[0m \u001b[43mcsv_formatter\u001b[49m\u001b[38;5;241;43m.\u001b[39;49m\u001b[43msave\u001b[49m\u001b[43m(\u001b[49m\u001b[43m)\u001b[49m\n\u001b[0;32m   1016\u001b[0m \u001b[38;5;28;01mif\u001b[39;00m created_buffer:\n\u001b[0;32m   1017\u001b[0m     \u001b[38;5;28;01massert\u001b[39;00m \u001b[38;5;28misinstance\u001b[39m(path_or_buf, StringIO)\n",
            "File \u001b[1;32mc:\\Users\\HP\\Desktop\\ML_Portfolio\\insurance-pricing-prediction-pipeline\\insurance-ml\\lib\\site-packages\\pandas\\io\\formats\\csvs.py:251\u001b[0m, in \u001b[0;36mCSVFormatter.save\u001b[1;34m(self)\u001b[0m\n\u001b[0;32m    247\u001b[0m \u001b[38;5;250m\u001b[39m\u001b[38;5;124;03m\"\"\"\u001b[39;00m\n\u001b[0;32m    248\u001b[0m \u001b[38;5;124;03mCreate the writer & save.\u001b[39;00m\n\u001b[0;32m    249\u001b[0m \u001b[38;5;124;03m\"\"\"\u001b[39;00m\n\u001b[0;32m    250\u001b[0m \u001b[38;5;66;03m# apply compression and byte/text conversion\u001b[39;00m\n\u001b[1;32m--> 251\u001b[0m \u001b[38;5;28;01mwith\u001b[39;00m \u001b[43mget_handle\u001b[49m\u001b[43m(\u001b[49m\n\u001b[0;32m    252\u001b[0m \u001b[43m    \u001b[49m\u001b[38;5;28;43mself\u001b[39;49m\u001b[38;5;241;43m.\u001b[39;49m\u001b[43mfilepath_or_buffer\u001b[49m\u001b[43m,\u001b[49m\n\u001b[0;32m    253\u001b[0m \u001b[43m    \u001b[49m\u001b[38;5;28;43mself\u001b[39;49m\u001b[38;5;241;43m.\u001b[39;49m\u001b[43mmode\u001b[49m\u001b[43m,\u001b[49m\n\u001b[0;32m    254\u001b[0m \u001b[43m    \u001b[49m\u001b[43mencoding\u001b[49m\u001b[38;5;241;43m=\u001b[39;49m\u001b[38;5;28;43mself\u001b[39;49m\u001b[38;5;241;43m.\u001b[39;49m\u001b[43mencoding\u001b[49m\u001b[43m,\u001b[49m\n\u001b[0;32m    255\u001b[0m \u001b[43m    \u001b[49m\u001b[43merrors\u001b[49m\u001b[38;5;241;43m=\u001b[39;49m\u001b[38;5;28;43mself\u001b[39;49m\u001b[38;5;241;43m.\u001b[39;49m\u001b[43merrors\u001b[49m\u001b[43m,\u001b[49m\n\u001b[0;32m    256\u001b[0m \u001b[43m    \u001b[49m\u001b[43mcompression\u001b[49m\u001b[38;5;241;43m=\u001b[39;49m\u001b[38;5;28;43mself\u001b[39;49m\u001b[38;5;241;43m.\u001b[39;49m\u001b[43mcompression\u001b[49m\u001b[43m,\u001b[49m\n\u001b[0;32m    257\u001b[0m \u001b[43m    \u001b[49m\u001b[43mstorage_options\u001b[49m\u001b[38;5;241;43m=\u001b[39;49m\u001b[38;5;28;43mself\u001b[39;49m\u001b[38;5;241;43m.\u001b[39;49m\u001b[43mstorage_options\u001b[49m\u001b[43m,\u001b[49m\n\u001b[0;32m    258\u001b[0m \u001b[43m\u001b[49m\u001b[43m)\u001b[49m \u001b[38;5;28;01mas\u001b[39;00m handles:\n\u001b[0;32m    259\u001b[0m     \u001b[38;5;66;03m# Note: self.encoding is irrelevant here\u001b[39;00m\n\u001b[0;32m    260\u001b[0m     \u001b[38;5;28mself\u001b[39m\u001b[38;5;241m.\u001b[39mwriter \u001b[38;5;241m=\u001b[39m csvlib\u001b[38;5;241m.\u001b[39mwriter(\n\u001b[0;32m    261\u001b[0m         handles\u001b[38;5;241m.\u001b[39mhandle,\n\u001b[0;32m    262\u001b[0m         lineterminator\u001b[38;5;241m=\u001b[39m\u001b[38;5;28mself\u001b[39m\u001b[38;5;241m.\u001b[39mlineterminator,\n\u001b[1;32m   (...)\u001b[0m\n\u001b[0;32m    267\u001b[0m         quotechar\u001b[38;5;241m=\u001b[39m\u001b[38;5;28mself\u001b[39m\u001b[38;5;241m.\u001b[39mquotechar,\n\u001b[0;32m    268\u001b[0m     )\n\u001b[0;32m    270\u001b[0m     \u001b[38;5;28mself\u001b[39m\u001b[38;5;241m.\u001b[39m_save()\n",
            "File \u001b[1;32mc:\\Users\\HP\\Desktop\\ML_Portfolio\\insurance-pricing-prediction-pipeline\\insurance-ml\\lib\\site-packages\\pandas\\io\\common.py:749\u001b[0m, in \u001b[0;36mget_handle\u001b[1;34m(path_or_buf, mode, encoding, compression, memory_map, is_text, errors, storage_options)\u001b[0m\n\u001b[0;32m    747\u001b[0m \u001b[38;5;66;03m# Only for write methods\u001b[39;00m\n\u001b[0;32m    748\u001b[0m \u001b[38;5;28;01mif\u001b[39;00m \u001b[38;5;124m\"\u001b[39m\u001b[38;5;124mr\u001b[39m\u001b[38;5;124m\"\u001b[39m \u001b[38;5;129;01mnot\u001b[39;00m \u001b[38;5;129;01min\u001b[39;00m mode \u001b[38;5;129;01mand\u001b[39;00m is_path:\n\u001b[1;32m--> 749\u001b[0m     \u001b[43mcheck_parent_directory\u001b[49m\u001b[43m(\u001b[49m\u001b[38;5;28;43mstr\u001b[39;49m\u001b[43m(\u001b[49m\u001b[43mhandle\u001b[49m\u001b[43m)\u001b[49m\u001b[43m)\u001b[49m\n\u001b[0;32m    751\u001b[0m \u001b[38;5;28;01mif\u001b[39;00m compression:\n\u001b[0;32m    752\u001b[0m     \u001b[38;5;28;01mif\u001b[39;00m compression \u001b[38;5;241m!=\u001b[39m \u001b[38;5;124m\"\u001b[39m\u001b[38;5;124mzstd\u001b[39m\u001b[38;5;124m\"\u001b[39m:\n\u001b[0;32m    753\u001b[0m         \u001b[38;5;66;03m# compression libraries do not like an explicit text-mode\u001b[39;00m\n",
            "File \u001b[1;32mc:\\Users\\HP\\Desktop\\ML_Portfolio\\insurance-pricing-prediction-pipeline\\insurance-ml\\lib\\site-packages\\pandas\\io\\common.py:616\u001b[0m, in \u001b[0;36mcheck_parent_directory\u001b[1;34m(path)\u001b[0m\n\u001b[0;32m    614\u001b[0m parent \u001b[38;5;241m=\u001b[39m Path(path)\u001b[38;5;241m.\u001b[39mparent\n\u001b[0;32m    615\u001b[0m \u001b[38;5;28;01mif\u001b[39;00m \u001b[38;5;129;01mnot\u001b[39;00m parent\u001b[38;5;241m.\u001b[39mis_dir():\n\u001b[1;32m--> 616\u001b[0m     \u001b[38;5;28;01mraise\u001b[39;00m \u001b[38;5;167;01mOSError\u001b[39;00m(\u001b[38;5;124mrf\u001b[39m\u001b[38;5;124m\"\u001b[39m\u001b[38;5;124mCannot save file into a non-existent directory: \u001b[39m\u001b[38;5;124m'\u001b[39m\u001b[38;5;132;01m{\u001b[39;00mparent\u001b[38;5;132;01m}\u001b[39;00m\u001b[38;5;124m'\u001b[39m\u001b[38;5;124m\"\u001b[39m)\n",
            "\u001b[1;31mOSError\u001b[0m: Cannot save file into a non-existent directory: '\\content\\drive\\MyDrive\\insurance_pricing_ml\\models'"
          ]
        }
      ],
      "source": [
        "import pandas as pd\n",
        "from sklearn.metrics import mean_squared_error, mean_absolute_error, r2_score\n",
        "import numpy as np\n",
        "\n",
        "# Helper function\n",
        "def evaluate_all_models(model, name, X_train, y_train, X_test, y_test):\n",
        "    y_train_pred = model.predict(X_train)\n",
        "    y_test_pred = model.predict(X_test)\n",
        "\n",
        "    rmse = np.sqrt(mean_squared_error(y_test, y_test_pred))\n",
        "    mae = mean_absolute_error(y_test, y_test_pred)\n",
        "    r2 = r2_score(y_test, y_test_pred)\n",
        "\n",
        "    return {\n",
        "        \"Model\": name,\n",
        "        \"Test RMSE\": rmse,\n",
        "        \"Test MAE\": mae,\n",
        "        \"Test R2 Score\": r2\n",
        "    }\n",
        "\n",
        "# List of all models to compare\n",
        "model_results = [\n",
        "    evaluate_all_models(best_cbr, \"CatBoost Regressor\", X_train, y_train, X_test, y_test),\n",
        "    evaluate_all_models(best_xgb, \"XGBoost Regressor\", X_train, y_train, X_test, y_test),\n",
        "    evaluate_all_models(best_rf, \"Random Forest Regressor\", X_train, y_train, X_test, y_test),\n",
        "    evaluate_all_models(best_ada, \"AdaBoost Regressor\", X_train, y_train, X_test, y_test),\n",
        "    evaluate_all_models(voting_pipeline, \"Voting Regressor\", X_train, y_train, X_test, y_test),\n",
        "    evaluate_all_models(stacking_pipeline, \"Stacking Regressor\", X_train, y_train, X_test, y_test)\n",
        "]\n",
        "\n",
        "# Create DataFrame\n",
        "summary_df = pd.DataFrame(model_results).sort_values(by=\"Test R2 Score\", ascending=False)\n",
        "\n",
        "# Display\n",
        "print(summary_df)\n",
        "\n",
        "# Optionally export to CSV\n",
        "#summary_df.to_csv(\"/content/drive/MyDrive/insurance_pricing_ml/models/model_comparison_summary.csv\", index=False)\n"
      ]
    },
    {
      "cell_type": "markdown",
      "metadata": {},
      "source": [
        "### 7. Model Comparison\n",
        "- Compare top perfoming models\n",
        "- Select best-performing model  \n"
      ]
    },
    {
      "cell_type": "code",
      "execution_count": 28,
      "metadata": {},
      "outputs": [],
      "source": [
        "import os"
      ]
    },
    {
      "cell_type": "code",
      "execution_count": 31,
      "metadata": {
        "id": "0AlDLJ2TBBPE"
      },
      "outputs": [
        {
          "data": {
            "text/plain": [
              "['models/voting_pipeline.pkl']"
            ]
          },
          "execution_count": 31,
          "metadata": {},
          "output_type": "execute_result"
        }
      ],
      "source": [
        "# Define the directory and create it if it doesn't exist\n",
        "save_dir = 'models'\n",
        "os.makedirs(save_dir, exist_ok=True)\n",
        "\n",
        "#  Save the stacking model\n",
        "joblib.dump(stacking_pipeline, 'models/stacking_pipeline.pkl')\n",
        "\n",
        "# Save the voting model\n",
        "joblib.dump(voting_pipeline, 'models/voting_pipeline.pkl')"
      ]
    },
    {
      "cell_type": "code",
      "execution_count": null,
      "metadata": {
        "id": "zUUs_u3AKdqO"
      },
      "outputs": [],
      "source": [
        "import joblib\n",
        "\n",
        "# Assume pipeline is your full pipeline object with preprocessing + model\n",
        "joblib.dump(pipeline, 'final_pipeline.pkl')\n"
      ]
    },
    {
      "cell_type": "code",
      "execution_count": null,
      "metadata": {
        "id": "M0qkvep7Kaax"
      },
      "outputs": [],
      "source": []
    }
  ],
  "metadata": {
    "colab": {
      "provenance": []
    },
    "kernelspec": {
      "display_name": "Python 3",
      "name": "python3"
    },
    "language_info": {
      "codemirror_mode": {
        "name": "ipython",
        "version": 3
      },
      "file_extension": ".py",
      "mimetype": "text/x-python",
      "name": "python",
      "nbconvert_exporter": "python",
      "pygments_lexer": "ipython3",
      "version": "3.10.17"
    }
  },
  "nbformat": 4,
  "nbformat_minor": 0
}
